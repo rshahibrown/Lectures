{
 "cells": [
  {
   "cell_type": "markdown",
   "id": "apart-invalid",
   "metadata": {},
   "source": [
    "# Final Project Code"
   ]
  },
  {
   "cell_type": "code",
   "execution_count": 6,
   "id": "informal-there",
   "metadata": {},
   "outputs": [],
   "source": [
    "import math\n",
    "import numpy as np\n",
    "import matplotlib.pyplot as plt\n",
    "from scipy.integrate import cumulative_trapezoid, odeint\n",
    "import rootfinder as rtf"
   ]
  },
  {
   "cell_type": "code",
   "execution_count": 67,
   "id": "executive-things",
   "metadata": {},
   "outputs": [],
   "source": [
    "class QM(object):\n",
    "    def __init__(self, Potential, E, npoints, x_start, x_end = 0, u0 = 0.0, v0 = 0.01):\n",
    "        self.Potential = Potential\n",
    "        self.E = E\n",
    "        self.npoints = npoints\n",
    "        self.uv0 = np.array([u0, v0]) # NumPy array with initial position and velocity\n",
    "       \n",
    "        # always want to start at furthest point and go to zero\n",
    "        self.xarray = np.linspace(x_start, x_end, npoints, endpoint = True) # include final timepoint\n",
    "\n",
    "    def scipy_trajectory(self):\n",
    "        \"\"\"calculate trajectory using SciPy ode integrator\"\"\"\n",
    "        self.uv = odeint(self.sch, self.uv0, self.xarray)\n",
    "        self.uv_end = self.uv[-1]\n",
    "\n",
    "\n",
    "    def sch(self, uv, x):\n",
    "    \n",
    "        \"\"\"right hand side of the differential equation\"\"\"\n",
    "        u = uv[1]\n",
    "        v = 2*(self.Potential(x) - self.E)*uv[0]\n",
    "        return np.ravel(np.array([u, v]))"
   ]
  },
  {
   "cell_type": "code",
   "execution_count": 76,
   "id": "turkish-registrar",
   "metadata": {},
   "outputs": [],
   "source": [
    "N = 1000\n",
    "bounds = 10.0\n",
    "\n",
    "def solve(cumprob, E):\n",
    "    dr = bounds/(N-1)\n",
    "    Potential = lambda x: Qscale*(-Z + np.interp(r, r_points, cumprob))/r\n",
    "    electron = QM(Potential, E, N, bounds, 0.0, 0.0, -0.01)\n",
    "    electron.scipy_trajectory()\n",
    "    return electron.uv"
   ]
  },
  {
   "cell_type": "code",
   "execution_count": 77,
   "id": "natural-essence",
   "metadata": {},
   "outputs": [
    {
     "name": "stdout",
     "output_type": "stream",
     "text": [
      "-13.692331314086918\n",
      "Bisection error: no root bracketed\n"
     ]
    },
    {
     "name": "stderr",
     "output_type": "stream",
     "text": [
      "<ipython-input-77-859ff86fc182>:26: RuntimeWarning: invalid value encountered in true_divide\n",
      "  plt.plot(r, cumprob/r, label=str(E1*Escale))\n",
      "/opt/conda/envs/phys1600/lib/python3.8/site-packages/scipy/integrate/odepack.py:247: ODEintWarning: Excess work done on this call (perhaps wrong Dfun type). Run with full_output = 1 to get quantitative information.\n",
      "  warnings.warn(warning_msg, ODEintWarning)\n"
     ]
    },
    {
     "name": "stdout",
     "output_type": "stream",
     "text": [
      "-5.242547988891603\n",
      "Bisection error: no root bracketed\n"
     ]
    },
    {
     "name": "stderr",
     "output_type": "stream",
     "text": [
      "<ipython-input-77-859ff86fc182>:26: RuntimeWarning: invalid value encountered in true_divide\n",
      "  plt.plot(r, cumprob/r, label=str(E1*Escale))\n",
      "/opt/conda/envs/phys1600/lib/python3.8/site-packages/scipy/integrate/odepack.py:247: ODEintWarning: Excess work done on this call (perhaps wrong Dfun type). Run with full_output = 1 to get quantitative information.\n",
      "  warnings.warn(warning_msg, ODEintWarning)\n"
     ]
    },
    {
     "name": "stdout",
     "output_type": "stream",
     "text": [
      "-4.614801406860352\n",
      "Bisection error: no root bracketed\n"
     ]
    },
    {
     "name": "stderr",
     "output_type": "stream",
     "text": [
      "<ipython-input-77-859ff86fc182>:26: RuntimeWarning: invalid value encountered in true_divide\n",
      "  plt.plot(r, cumprob/r, label=str(E1*Escale))\n",
      "/opt/conda/envs/phys1600/lib/python3.8/site-packages/scipy/integrate/odepack.py:247: ODEintWarning: Excess work done on this call (perhaps wrong Dfun type). Run with full_output = 1 to get quantitative information.\n",
      "  warnings.warn(warning_msg, ODEintWarning)\n"
     ]
    },
    {
     "name": "stdout",
     "output_type": "stream",
     "text": [
      "-4.890661239624023\n",
      "Bisection error: no root bracketed\n"
     ]
    },
    {
     "name": "stderr",
     "output_type": "stream",
     "text": [
      "<ipython-input-77-859ff86fc182>:26: RuntimeWarning: invalid value encountered in true_divide\n",
      "  plt.plot(r, cumprob/r, label=str(E1*Escale))\n",
      "/opt/conda/envs/phys1600/lib/python3.8/site-packages/scipy/integrate/odepack.py:247: ODEintWarning: Excess work done on this call (perhaps wrong Dfun type). Run with full_output = 1 to get quantitative information.\n",
      "  warnings.warn(warning_msg, ODEintWarning)\n"
     ]
    },
    {
     "name": "stdout",
     "output_type": "stream",
     "text": [
      "-4.837102890014648\n",
      "Bisection error: no root bracketed\n"
     ]
    },
    {
     "name": "stderr",
     "output_type": "stream",
     "text": [
      "<ipython-input-77-859ff86fc182>:26: RuntimeWarning: invalid value encountered in true_divide\n",
      "  plt.plot(r, cumprob/r, label=str(E1*Escale))\n",
      "/opt/conda/envs/phys1600/lib/python3.8/site-packages/scipy/integrate/odepack.py:247: ODEintWarning: Excess work done on this call (perhaps wrong Dfun type). Run with full_output = 1 to get quantitative information.\n",
      "  warnings.warn(warning_msg, ODEintWarning)\n"
     ]
    },
    {
     "name": "stdout",
     "output_type": "stream",
     "text": [
      "-4.840726852416991\n",
      "Bisection error: no root bracketed\n"
     ]
    },
    {
     "name": "stderr",
     "output_type": "stream",
     "text": [
      "<ipython-input-77-859ff86fc182>:26: RuntimeWarning: invalid value encountered in true_divide\n",
      "  plt.plot(r, cumprob/r, label=str(E1*Escale))\n",
      "/opt/conda/envs/phys1600/lib/python3.8/site-packages/scipy/integrate/odepack.py:247: ODEintWarning: Excess work done on this call (perhaps wrong Dfun type). Run with full_output = 1 to get quantitative information.\n",
      "  warnings.warn(warning_msg, ODEintWarning)\n"
     ]
    },
    {
     "name": "stdout",
     "output_type": "stream",
     "text": [
      "-4.841699600219726\n",
      "Bisection error: no root bracketed\n"
     ]
    },
    {
     "name": "stderr",
     "output_type": "stream",
     "text": [
      "<ipython-input-77-859ff86fc182>:26: RuntimeWarning: invalid value encountered in true_divide\n",
      "  plt.plot(r, cumprob/r, label=str(E1*Escale))\n",
      "/opt/conda/envs/phys1600/lib/python3.8/site-packages/scipy/integrate/odepack.py:247: ODEintWarning: Excess work done on this call (perhaps wrong Dfun type). Run with full_output = 1 to get quantitative information.\n",
      "  warnings.warn(warning_msg, ODEintWarning)\n"
     ]
    },
    {
     "name": "stdout",
     "output_type": "stream",
     "text": [
      "-4.841337203979491\n",
      "Bisection error: no root bracketed\n"
     ]
    },
    {
     "name": "stderr",
     "output_type": "stream",
     "text": [
      "<ipython-input-77-859ff86fc182>:26: RuntimeWarning: invalid value encountered in true_divide\n",
      "  plt.plot(r, cumprob/r, label=str(E1*Escale))\n",
      "/opt/conda/envs/phys1600/lib/python3.8/site-packages/scipy/integrate/odepack.py:247: ODEintWarning: Excess work done on this call (perhaps wrong Dfun type). Run with full_output = 1 to get quantitative information.\n",
      "  warnings.warn(warning_msg, ODEintWarning)\n"
     ]
    },
    {
     "name": "stdout",
     "output_type": "stream",
     "text": [
      "-4.8413753509521475\n",
      "Bisection error: no root bracketed\n"
     ]
    },
    {
     "name": "stderr",
     "output_type": "stream",
     "text": [
      "<ipython-input-77-859ff86fc182>:26: RuntimeWarning: invalid value encountered in true_divide\n",
      "  plt.plot(r, cumprob/r, label=str(E1*Escale))\n",
      "/opt/conda/envs/phys1600/lib/python3.8/site-packages/scipy/integrate/odepack.py:247: ODEintWarning: Excess work done on this call (perhaps wrong Dfun type). Run with full_output = 1 to get quantitative information.\n",
      "  warnings.warn(warning_msg, ODEintWarning)\n"
     ]
    },
    {
     "name": "stdout",
     "output_type": "stream",
     "text": [
      "-4.841394424438477\n",
      "Bisection error: no root bracketed\n"
     ]
    },
    {
     "name": "stderr",
     "output_type": "stream",
     "text": [
      "<ipython-input-77-859ff86fc182>:26: RuntimeWarning: invalid value encountered in true_divide\n",
      "  plt.plot(r, cumprob/r, label=str(E1*Escale))\n",
      "/opt/conda/envs/phys1600/lib/python3.8/site-packages/scipy/integrate/odepack.py:247: ODEintWarning: Excess work done on this call (perhaps wrong Dfun type). Run with full_output = 1 to get quantitative information.\n",
      "  warnings.warn(warning_msg, ODEintWarning)\n"
     ]
    },
    {
     "name": "stdout",
     "output_type": "stream",
     "text": [
      "-4.841356277465819\n",
      "Bisection error: no root bracketed\n"
     ]
    },
    {
     "name": "stderr",
     "output_type": "stream",
     "text": [
      "<ipython-input-77-859ff86fc182>:26: RuntimeWarning: invalid value encountered in true_divide\n",
      "  plt.plot(r, cumprob/r, label=str(E1*Escale))\n",
      "/opt/conda/envs/phys1600/lib/python3.8/site-packages/scipy/integrate/odepack.py:247: ODEintWarning: Excess work done on this call (perhaps wrong Dfun type). Run with full_output = 1 to get quantitative information.\n",
      "  warnings.warn(warning_msg, ODEintWarning)\n"
     ]
    },
    {
     "name": "stdout",
     "output_type": "stream",
     "text": [
      "-4.841394424438477\n",
      "Bisection error: no root bracketed\n"
     ]
    },
    {
     "name": "stderr",
     "output_type": "stream",
     "text": [
      "<ipython-input-77-859ff86fc182>:26: RuntimeWarning: invalid value encountered in true_divide\n",
      "  plt.plot(r, cumprob/r, label=str(E1*Escale))\n",
      "/opt/conda/envs/phys1600/lib/python3.8/site-packages/scipy/integrate/odepack.py:247: ODEintWarning: Excess work done on this call (perhaps wrong Dfun type). Run with full_output = 1 to get quantitative information.\n",
      "  warnings.warn(warning_msg, ODEintWarning)\n"
     ]
    },
    {
     "name": "stdout",
     "output_type": "stream",
     "text": [
      "-4.8413753509521475\n",
      "Bisection error: no root bracketed\n"
     ]
    },
    {
     "name": "stderr",
     "output_type": "stream",
     "text": [
      "<ipython-input-77-859ff86fc182>:26: RuntimeWarning: invalid value encountered in true_divide\n",
      "  plt.plot(r, cumprob/r, label=str(E1*Escale))\n",
      "/opt/conda/envs/phys1600/lib/python3.8/site-packages/scipy/integrate/odepack.py:247: ODEintWarning: Excess work done on this call (perhaps wrong Dfun type). Run with full_output = 1 to get quantitative information.\n",
      "  warnings.warn(warning_msg, ODEintWarning)\n"
     ]
    },
    {
     "name": "stdout",
     "output_type": "stream",
     "text": [
      "-4.8413753509521475\n",
      "0.0\n"
     ]
    },
    {
     "data": {
      "image/png": "[encoded data removed]",
      "text/plain": [
       "<Figure size 432x288 with 1 Axes>"
      ]
     },
     "metadata": {
      "needs_background": "light"
     },
     "output_type": "display_data"
    }
   ],
   "source": [
    "Z = 1\n",
    "a0 = 5.29e-11\n",
    "hbar = 1.05e-34\n",
    "m_e = 9.1e-31\n",
    "e = 1.6e-19\n",
    "Escale = hbar**2/(e*m_e*a0**2)\n",
    "Qscale = e/a0 * 9e9 / Escale\n",
    "\n",
    "r_points = np.linspace(0.0, bounds, N, endpoint=True)\n",
    "cumprob = np.zeros(N)\n",
    "E0 = -13.6/Escale\n",
    "while True:\n",
    "    shoot = lambda E: solve(cumprob, E)[-1,0]\n",
    "    E1 = rtf.bisect(shoot, -20.0/Escale, -10.0/Escale)\n",
    "    if not E1: E1 = rtf.bisect(shoot, -10.0/Escale, 0.0)\n",
    "    u = np.flip(solve(cumprob, E1)[:,0])\n",
    "    print(E1*Escale)\n",
    "    if (abs(E1-E0) < 1e-7):\n",
    "        print(E1-E0)\n",
    "        break\n",
    "    E0 = E1\n",
    "    cumprob = cumulative_trapezoid(u**2, r, initial=0.0)\n",
    "    cumprob /= cumprob[-1]\n",
    "    plt.plot(r, cumprob/r, label=str(E1*Escale))\n",
    "    plt.legend()"
   ]
  },
  {
   "cell_type": "code",
   "execution_count": null,
   "id": "special-cooler",
   "metadata": {},
   "outputs": [],
   "source": []
  }
 ],
 "metadata": {
  "kernelspec": {
   "display_name": "Python 3",
   "language": "python",
   "name": "phys1600"
  },
  "language_info": {
   "codemirror_mode": {
    "name": "ipython",
    "version": 3
   },
   "file_extension": ".py",
   "mimetype": "text/x-python",
   "name": "python",
   "nbconvert_exporter": "python",
   "pygments_lexer": "ipython3",
   "version": "3.8.6"
  }
 },
 "nbformat": 4,
 "nbformat_minor": 5
}
